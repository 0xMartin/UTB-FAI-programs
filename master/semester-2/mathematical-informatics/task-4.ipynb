{
 "cells": [
  {
   "attachments": {},
   "cell_type": "markdown",
   "metadata": {},
   "source": [
    "# Problém batohu s vícenásobnou volbou "
   ]
  },
  {
   "cell_type": "code",
   "execution_count": 1,
   "metadata": {},
   "outputs": [],
   "source": [
    "import itertools\n",
    "import random\n",
    "import numpy as np\n",
    "import time\n",
    "import math"
   ]
  },
  {
   "attachments": {},
   "cell_type": "markdown",
   "metadata": {},
   "source": [
    "## Utility"
   ]
  },
  {
   "cell_type": "code",
   "execution_count": 2,
   "metadata": {},
   "outputs": [],
   "source": [
    "class Item:\n",
    "    def __init__(self, class_id: int, item_id: int, cubic_capacity: int, cost: int) -> None:\n",
    "        \"\"\"\n",
    "        Trida predmetu\n",
    "\n",
    "        Atributy:\n",
    "            class_id - id tridy\n",
    "            item_id - id predmetu\n",
    "            cubic_capacity - objem predmetu\n",
    "            cost - cena predmetu  \n",
    "        \"\"\"\n",
    "        self.class_id = class_id\n",
    "        self.item_id = item_id\n",
    "        self.cubic_capacity = cubic_capacity\n",
    "        self.cost = cost\n",
    "\n",
    "    def print(self):\n",
    "        print(\"Class-ID: %d; Item-ID: %d; Capacity: %d; Cost: %d\" % (self.class_id, self.item_id, self.cubic_capacity, self.cost))"
   ]
  },
  {
   "cell_type": "code",
   "execution_count": 3,
   "metadata": {},
   "outputs": [],
   "source": [
    "def generateItems(num_classes: int, num_items: int, cubic_capacity_func: int, cost_func) -> list[Item]:\n",
    "    \"\"\"\n",
    "    Vygeneruje seznam predmetu\n",
    "\n",
    "    Parametry:\n",
    "        num_classes - pocet trid\n",
    "        num_items - pocet predmetu ve tridach\n",
    "        cubic_capacity_func - funkce pro generovani nahodneho objemu predmetu\n",
    "        cost_func - funkce pro generovani nahodnehe ceny predmetu  \n",
    "    \n",
    "    Return:\n",
    "        Seznam vsech vygenerovanych predmetu\n",
    "    \"\"\"\n",
    "    items: list[Item] = []\n",
    "    for class_id in range(1, num_classes+1):\n",
    "        for item_id in range(1, num_items+1):\n",
    "            items.append(Item(class_id, item_id, cubic_capacity_func(), cost_func()))\n",
    "    return items"
   ]
  },
  {
   "cell_type": "code",
   "execution_count": 4,
   "metadata": {},
   "outputs": [],
   "source": [
    "def numberOfCombinations(class_count: int, items_count: int):\n",
    "    \"\"\"\n",
    "    Vypocita pocet kombinaci\n",
    "\n",
    "    Paramtery:\n",
    "        class_count - pocet trid\n",
    "        items_count - pocet predmetu na jednu tridu   \n",
    "    \n",
    "    Return:\n",
    "        Pocet kombinaci\n",
    "    \"\"\"\n",
    "    count = 0\n",
    "    item_count = class_count * items_count\n",
    "    for i in range(1, class_count + 1):\n",
    "        count += math.comb(item_count, i)\n",
    "\n",
    "    return count"
   ]
  },
  {
   "cell_type": "code",
   "execution_count": 5,
   "metadata": {},
   "outputs": [],
   "source": [
    "def numberOfClasses(combination_count: int, items_count: int):\n",
    "    \"\"\"\n",
    "    Vypocita pocet trida ktery nejblize odpovidaji poctu kombinaci predmetu\n",
    "\n",
    "    Paramtery:\n",
    "        combination_count - pocet kombinaci\n",
    "        items_count - pocet predmetu na jednu tridu   \n",
    "    \n",
    "    Return:\n",
    "        Pocet trid\n",
    "    \"\"\"\n",
    "\n",
    "    class_count = 0\n",
    "    diff = float('inf')\n",
    "    last_diff = diff\n",
    "\n",
    "    for j in range(2, 30):\n",
    "\n",
    "        count = 0\n",
    "        item_count = items_count * j\n",
    "        for i in range(1, j + 1):\n",
    "            count += math.comb(item_count, i)\n",
    "\n",
    "        d = abs(count - combination_count)\n",
    "        if d > last_diff:\n",
    "            break\n",
    "        if d < diff:\n",
    "            diff = d\n",
    "            class_count = j   \n",
    "        last_diff = d\n",
    "\n",
    "    return class_count"
   ]
  },
  {
   "cell_type": "code",
   "execution_count": 6,
   "metadata": {},
   "outputs": [],
   "source": [
    "def check_classes(combination: tuple[Item], class_count: int) -> bool:\n",
    "    \"\"\"\n",
    "    Overi zda v kombinaci predmetu je kazdy predmet z prave jedne tridy\n",
    "\n",
    "    Parametry:\n",
    "        combination - kombinace jakymi je mozne predmety nakombinovat\n",
    "        class_count - pocet trid\n",
    "\n",
    "    Return:\n",
    "        True kdyz jsou zastoupeny predmety ze vsech trid prave jednou\n",
    "    \"\"\"\n",
    "    classes = {}\n",
    "    for item in combination:\n",
    "        class_id = item.class_id\n",
    "        if class_id not in classes:\n",
    "            classes[class_id] = 1\n",
    "        else:\n",
    "            return False\n",
    "    return len(classes) == class_count"
   ]
  },
  {
   "cell_type": "code",
   "execution_count": 7,
   "metadata": {},
   "outputs": [],
   "source": [
    "def bestSolution(items: list[Item], max_capacity: int, class_count: int, items_count: int) -> tuple([tuple[Item], float, int]):\n",
    "    \"\"\"\n",
    "    Najde nejlepsi reseni \"nejlepsi kombinace\". Maximalni mozna cena & Pouze jeden predmet \n",
    "    ze tridy & Neni prekrocen maximalni objem.\n",
    "\n",
    "    Parametry:\n",
    "        items - seznam vsech predmetu\n",
    "        max_capacity - maximalni kapacita batohu\n",
    "        class_count - pocet trid\n",
    "        items_count - pocet predmetu na jednu tridu   \n",
    "\n",
    "    Return:\n",
    "        Nejlepsi nalezna kombinace, cas potrebny pro nalezeni nejlepsiho reseni, celkovy pocet kombinaci predmetu\n",
    "    \"\"\"\n",
    "    start = time.time()\n",
    "\n",
    "    best_cost: int = 0\n",
    "    best_combination: tuple[Item] = []\n",
    "\n",
    "    combination_count = 0\n",
    "    for i in range(1, int(len(items)/items_count)+1):\n",
    "        for combination in itertools.combinations(items, i):\n",
    "            combination_count +=1\n",
    "            current_capacity = sum(item.cubic_capacity for item in combination)\n",
    "            if current_capacity <= max_capacity:\n",
    "                current_cost = sum(item.cost for item in combination)\n",
    "                if current_cost > best_cost:\n",
    "                    if check_classes(combination, class_count):\n",
    "                        best_cost = current_cost\n",
    "                        best_combination = combination\n",
    "\n",
    "\n",
    "    return best_combination, float(time.time() - start), combination_count"
   ]
  },
  {
   "attachments": {},
   "cell_type": "markdown",
   "metadata": {},
   "source": [
    "## Nastaveni"
   ]
  },
  {
   "cell_type": "code",
   "execution_count": 8,
   "metadata": {},
   "outputs": [],
   "source": [
    "# pocet generovanych trid\n",
    "num_classes = 5  \n",
    "# pocet predmetu v jedne tride\n",
    "num_items = 3 \n",
    "# objem predmetu (1 az 50)\n",
    "cubic_capacity = lambda: random.randint(1, 51)\n",
    "# cena predmetu\n",
    "cost = lambda: random.randint(1, 51)\n",
    "# maximalni kapacita batohu\n",
    "max_capacity = 20 * num_classes"
   ]
  },
  {
   "attachments": {},
   "cell_type": "markdown",
   "metadata": {},
   "source": [
    "## Seznam vygenerovanych predmetu"
   ]
  },
  {
   "cell_type": "code",
   "execution_count": 9,
   "metadata": {},
   "outputs": [
    {
     "name": "stdout",
     "output_type": "stream",
     "text": [
      "Class-ID: 1; Item-ID: 1; Capacity: 39; Cost: 46\n",
      "Class-ID: 1; Item-ID: 2; Capacity: 19; Cost: 19\n",
      "Class-ID: 1; Item-ID: 3; Capacity: 4; Cost: 26\n",
      "Class-ID: 2; Item-ID: 1; Capacity: 25; Cost: 30\n",
      "Class-ID: 2; Item-ID: 2; Capacity: 21; Cost: 33\n",
      "Class-ID: 2; Item-ID: 3; Capacity: 28; Cost: 15\n",
      "Class-ID: 3; Item-ID: 1; Capacity: 7; Cost: 3\n",
      "Class-ID: 3; Item-ID: 2; Capacity: 44; Cost: 41\n",
      "Class-ID: 3; Item-ID: 3; Capacity: 5; Cost: 6\n",
      "Class-ID: 4; Item-ID: 1; Capacity: 45; Cost: 24\n",
      "Class-ID: 4; Item-ID: 2; Capacity: 51; Cost: 41\n",
      "Class-ID: 4; Item-ID: 3; Capacity: 4; Cost: 43\n",
      "Class-ID: 5; Item-ID: 1; Capacity: 11; Cost: 14\n",
      "Class-ID: 5; Item-ID: 2; Capacity: 25; Cost: 45\n",
      "Class-ID: 5; Item-ID: 3; Capacity: 45; Cost: 12\n"
     ]
    }
   ],
   "source": [
    "items = generateItems(num_classes, num_items, cubic_capacity, cost)\n",
    "\n",
    "for item in items:\n",
    "    item.print()"
   ]
  },
  {
   "attachments": {},
   "cell_type": "markdown",
   "metadata": {},
   "source": [
    "## Seznam vybranych predmetu s nejvyssi cenou"
   ]
  },
  {
   "cell_type": "code",
   "execution_count": 10,
   "metadata": {},
   "outputs": [
    {
     "name": "stdout",
     "output_type": "stream",
     "text": [
      "BEST SOLUTION [max capacity: 100]:\n",
      "Class-ID: 1; Item-ID: 3; Capacity: 4; Cost: 26\n",
      "Class-ID: 2; Item-ID: 2; Capacity: 21; Cost: 33\n",
      "Class-ID: 3; Item-ID: 2; Capacity: 44; Cost: 41\n",
      "Class-ID: 4; Item-ID: 3; Capacity: 4; Cost: 43\n",
      "Class-ID: 5; Item-ID: 2; Capacity: 25; Cost: 45\n",
      "Total cost: 188; Total capacity: 98; Time: 0.004099s\n",
      "Combination count: 4943\n"
     ]
    }
   ],
   "source": [
    "best, t, comb_count = bestSolution(items, max_capacity, num_classes, num_items)\n",
    "print(\"BEST SOLUTION [max capacity: %d]:\" % max_capacity)\n",
    "total_cost = 0\n",
    "total_capacity = 0\n",
    "for item in best:\n",
    "    total_cost += item.cost\n",
    "    total_capacity += item.cubic_capacity\n",
    "    item.print()\n",
    "print(\"Total cost: %d; Total capacity: %d; Time: %fs\" % (total_cost, total_capacity, t))\n",
    "print(\"Combination count:\", comb_count)"
   ]
  },
  {
   "attachments": {},
   "cell_type": "markdown",
   "metadata": {},
   "source": [
    "## Vypocet maximalniho poctu trid, ktere je mozne vypocitat za jednu hodinu"
   ]
  },
  {
   "cell_type": "code",
   "execution_count": 11,
   "metadata": {},
   "outputs": [
    {
     "name": "stdout",
     "output_type": "stream",
     "text": [
      "Time for 9 classes: 3.963973045349121\n",
      "Estimated number of combinations per one hour: 7440283388\n",
      "Number of classes: 12\n"
     ]
    }
   ],
   "source": [
    "# zmeri kolik casu zabere najit reseni pro 9 trid\n",
    "items2 = generateItems(9, num_items, cubic_capacity, cost)\n",
    "_, t2, combination_count = bestSolution(items2, max_capacity, num_classes, num_items)\n",
    "print(\"Time for 9 classes:\", t2)\n",
    "\n",
    "# odhadne priblizny pocet kombinaci predmetu (pro 1h)\n",
    "combinations_for_one_hour = int((3600.0 / t2) * combination_count)\n",
    "print(\"Estimated number of combinations per one hour:\", combinations_for_one_hour)\n",
    "\n",
    "# vypocita pocet trid\n",
    "num_classes_one_hour = numberOfClasses(combinations_for_one_hour, num_items)\n",
    "print(\"Number of classes:\", num_classes_one_hour)"
   ]
  },
  {
   "attachments": {},
   "cell_type": "markdown",
   "metadata": {},
   "source": [
    "## Overeni"
   ]
  },
  {
   "cell_type": "code",
   "execution_count": 31,
   "metadata": {},
   "outputs": [
    {
     "name": "stdout",
     "output_type": "stream",
     "text": [
      "Max capacity: 240\n",
      "Items count: 36\n",
      "Class count: 12\n",
      "Minimal items capacity: 134.0\n"
     ]
    }
   ],
   "source": [
    "items_one_hour = generateItems(num_classes_one_hour, num_items, cubic_capacity, cost)\n",
    "max_capacity_one_hour = 20 * num_classes_one_hour\n",
    "print(\"Max capacity:\", max_capacity_one_hour)\n",
    "print(\"Items count:\", len(items_one_hour))\n",
    "print(\"Class count:\", int(len(items_one_hour) / num_items))\n",
    "min_cap = 0.0\n",
    "for class_id in range(1, num_classes_one_hour + 1):\n",
    "    local_min = 999\n",
    "    for item in items_one_hour:\n",
    "        if item.class_id == class_id:\n",
    "            if local_min > item.cubic_capacity:\n",
    "                local_min = item.cubic_capacity    \n",
    "    min_cap += local_min\n",
    "\n",
    "print(\"Minimal items capacity:\", min_cap)"
   ]
  },
  {
   "cell_type": "code",
   "execution_count": 32,
   "metadata": {},
   "outputs": [
    {
     "name": "stdout",
     "output_type": "stream",
     "text": [
      "BEST SOLUTION [max capacity: 240]:\n",
      "Class-ID: 1; Item-ID: 2; Capacity: 13; Cost: 31\n",
      "Class-ID: 2; Item-ID: 1; Capacity: 13; Cost: 43\n",
      "Class-ID: 3; Item-ID: 1; Capacity: 5; Cost: 45\n",
      "Class-ID: 4; Item-ID: 2; Capacity: 14; Cost: 37\n",
      "Class-ID: 5; Item-ID: 2; Capacity: 35; Cost: 39\n",
      "Class-ID: 6; Item-ID: 3; Capacity: 40; Cost: 51\n",
      "Class-ID: 7; Item-ID: 2; Capacity: 5; Cost: 14\n",
      "Class-ID: 8; Item-ID: 2; Capacity: 21; Cost: 23\n",
      "Class-ID: 9; Item-ID: 3; Capacity: 8; Cost: 22\n",
      "Class-ID: 10; Item-ID: 1; Capacity: 27; Cost: 40\n",
      "Class-ID: 11; Item-ID: 1; Capacity: 48; Cost: 49\n",
      "Class-ID: 12; Item-ID: 1; Capacity: 7; Cost: 29\n",
      "Total cost: 423; Total capacity: 236; Time: 1422.040807s\n"
     ]
    }
   ],
   "source": [
    "best, t, _ = bestSolution(items_one_hour, max_capacity_one_hour, num_classes_one_hour, num_items)\n",
    "print(\"BEST SOLUTION [max capacity: %d]:\" % max_capacity_one_hour)\n",
    "total_cost = 0\n",
    "total_capacity = 0\n",
    "for item in best:\n",
    "    total_cost += item.cost\n",
    "    total_capacity += item.cubic_capacity\n",
    "    item.print()\n",
    "print(\"Total cost: %d; Total capacity: %d; Time: %fs\" % (total_cost, total_capacity, t))"
   ]
  },
  {
   "attachments": {},
   "cell_type": "markdown",
   "metadata": {},
   "source": [
    "## Zaver"
   ]
  },
  {
   "cell_type": "markdown",
   "metadata": {},
   "source": []
  },
  {
   "cell_type": "code",
   "execution_count": 34,
   "metadata": {},
   "outputs": [
    {
     "name": "stdout",
     "output_type": "stream",
     "text": [
      "Estimated time: 18.078446 min\n",
      "Estimated time: 118.042074 min\n"
     ]
    }
   ],
   "source": [
    "# odhadovany cas pro reseni s \"num_classes_one_hour\" tridama\n",
    "estimated_time_1 = numberOfCombinations(num_classes_one_hour, num_items) / combinations_for_one_hour * 60.0\n",
    "print(\"Estimated time: %f min\" % estimated_time_1)\n",
    "\n",
    "# odhadovany cas pro reseni \"num_classes_one_hour\" + 1 trid\n",
    "estimated_time_1 = numberOfCombinations(num_classes_one_hour + 1, num_items) / combinations_for_one_hour * 60.0\n",
    "print(\"Estimated time: %f min\" % estimated_time_1)"
   ]
  },
  {
   "attachments": {},
   "cell_type": "markdown",
   "metadata": {},
   "source": [
    "Za hodinu je na mem PC mozne vyresit problem s 12 tridama (3 predmety na tridu). Odhadovany cas na reseni 12 trid je 18.07 min. Vysledny cas reseni byl 1422.04 sekund (23.7 minuty). Pro reseni 13 uz by bylo potraba priblizne 2 hodin."
   ]
  }
 ],
 "metadata": {
  "kernelspec": {
   "display_name": "Python 3",
   "language": "python",
   "name": "python3"
  },
  "language_info": {
   "codemirror_mode": {
    "name": "ipython",
    "version": 3
   },
   "file_extension": ".py",
   "mimetype": "text/x-python",
   "name": "python",
   "nbconvert_exporter": "python",
   "pygments_lexer": "ipython3",
   "version": "3.10.6"
  },
  "orig_nbformat": 4
 },
 "nbformat": 4,
 "nbformat_minor": 2
}
