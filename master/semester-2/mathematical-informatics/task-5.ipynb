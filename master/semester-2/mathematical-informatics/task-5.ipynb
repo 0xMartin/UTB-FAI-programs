{
 "cells": [
  {
   "cell_type": "code",
   "execution_count": 77,
   "metadata": {},
   "outputs": [],
   "source": [
    "import random\n",
    "import math\n",
    "import random\n",
    "import time\n",
    "import itertools\n",
    "from typing import List\n",
    "from collections import defaultdict\n",
    "import matplotlib.pyplot as plt\n",
    "import numpy as np"
   ]
  },
  {
   "attachments": {},
   "cell_type": "markdown",
   "metadata": {},
   "source": [
    "# Predmet"
   ]
  },
  {
   "cell_type": "code",
   "execution_count": 14,
   "metadata": {},
   "outputs": [],
   "source": [
    "class Item:\n",
    "    def __init__(self, class_id: int, item_id: int, cubic_capacity: int, cost: int) -> None:\n",
    "        \"\"\"\n",
    "        Trida predmetu\n",
    "\n",
    "        Atributy:\n",
    "            class_id - id tridy\n",
    "            item_id - id predmetu\n",
    "            cubic_capacity - objem predmetu\n",
    "            cost - cena predmetu  \n",
    "        \"\"\"\n",
    "        self.class_id = class_id\n",
    "        self.item_id = item_id\n",
    "        self.cubic_capacity = cubic_capacity\n",
    "        self.cost = cost\n",
    "\n",
    "    def print(self):\n",
    "        print(\"Class-ID: %d; Item-ID: %d; Capacity: %d; Cost: %d\" % (self.class_id, self.item_id, self.cubic_capacity, self.cost))"
   ]
  },
  {
   "attachments": {},
   "cell_type": "markdown",
   "metadata": {},
   "source": [
    "# Funkce pro vygenerovani predmetu"
   ]
  },
  {
   "cell_type": "code",
   "execution_count": 15,
   "metadata": {},
   "outputs": [],
   "source": [
    "def generateItems(num_classes: int, num_items: int, cubic_capacity_func: int, cost_func) -> list[Item]:\n",
    "    \"\"\"\n",
    "    Vygeneruje seznam predmetu\n",
    "\n",
    "    Parametry:\n",
    "        num_classes - pocet trid\n",
    "        num_items - pocet predmetu ve tridach\n",
    "        cubic_capacity_func - funkce pro generovani nahodneho objemu predmetu\n",
    "        cost_func - funkce pro generovani nahodnehe ceny predmetu  \n",
    "    \n",
    "    Return:\n",
    "        Seznam vsech vygenerovanych predmetu\n",
    "    \"\"\"\n",
    "    items: list[Item] = []\n",
    "    for class_id in range(1, num_classes+1):\n",
    "        for item_id in range(1, num_items+1):\n",
    "            items.append(Item(class_id, item_id, cubic_capacity_func(), cost_func()))\n",
    "    return items"
   ]
  },
  {
   "attachments": {},
   "cell_type": "markdown",
   "metadata": {},
   "source": [
    "# HC algoritmus upraveny pro reseni problemu batohu"
   ]
  },
  {
   "cell_type": "code",
   "execution_count": 102,
   "metadata": {},
   "outputs": [],
   "source": [
    "def knapsack_hc(items: list[Item], capacity: int, max_iter: int, class_count: int, item_count: int):\n",
    "    \"\"\"\n",
    "    Najde nejlepsi reseni problemu s batohem za pouzit HC.\n",
    "\n",
    "    Parametry:\n",
    "        items - list predmetu\n",
    "        capacity - maximalni kapacita batohu\n",
    "        max_iter - maximalni pocet iteraci\n",
    "        class_count - celkovy pocet trid\n",
    "        item_count - pocet itemu ve tride\n",
    "\n",
    "    Return:\n",
    "        nejlepsi reseni, celkova cena nalezeneho reseni, cas reseni, history vyvoje cene (ucelovee funkce)  \n",
    "    \"\"\"\n",
    "    start = time.time()\n",
    "\n",
    "    history = []\n",
    "    \n",
    "    # inicialiace nahodneho reseni\n",
    "    current_solution = [random.randint(1, item_count) for _ in range(class_count)]\n",
    "    current_fitness, is_valid = evaluate_solution(current_solution, items, capacity, item_count)\n",
    "    history.append(current_fitness)\n",
    "    \n",
    "    for _ in range(max_iter):\n",
    "        # vygeneruje nahodne sousedy\n",
    "        neighbor = generate_neighbor(current_solution, item_count)\n",
    "        neighbor_fitness, is_valid = evaluate_solution(neighbor, items, capacity, item_count)\n",
    "        \n",
    "        # pokud je soused lepsi pouzije ho jako nove reseni\n",
    "        if is_valid and neighbor_fitness > current_fitness:\n",
    "            current_solution = neighbor\n",
    "            current_fitness = neighbor_fitness\n",
    "        history.append(current_fitness)\n",
    "    \n",
    "    # reseni\n",
    "    return current_solution, current_fitness, float(time.time() - start), history\n",
    "\n",
    "def evaluate_solution(solution: list[int], items: list[Item], capacity: int, item_count: int):\n",
    "    \"\"\"\n",
    "    Vyhodnoti reseni. Vypocet celkove ceny vsech predmetu a overeni validity reseni.\n",
    "\n",
    "    Parametry:\n",
    "        solution - aktualni reseni\n",
    "        items - list predmetu\n",
    "        capacity - maximalni kapacita batohu\n",
    "        item_count - pocet itemu ve tride  \n",
    "\n",
    "    Return:\n",
    "        celkova cena vsech predmetu, validita reseni\n",
    "    \"\"\"\n",
    "    # spocita celkovou kapacitu zabranou predmeti a jejich cenu\n",
    "    total_cost = 0\n",
    "    total_camacity = 0\n",
    "    for class_id, item_id in enumerate(solution):\n",
    "        item = items[class_id * item_count + item_id - 1]   \n",
    "        total_cost += item.cost\n",
    "        total_camacity += item.cubic_capacity\n",
    "    \n",
    "    # overi, zda reseni splnuje omezeni kapacity\n",
    "    is_valid = total_camacity <= capacity\n",
    "    \n",
    "    return total_cost, is_valid\n",
    "\n",
    "def generate_neighbor(solution: list[int], item_count: int):   \n",
    "    \"\"\"\n",
    "    Vygenerovani novehou sousedniho reseni\n",
    "\n",
    "    Parametry:\n",
    "        solution - aktualni reseni\n",
    "        item_count - pocet itemu ve tride\n",
    "\n",
    "    Return:\n",
    "        Nove reseni  \n",
    "    \"\"\" \n",
    "    neighbor = solution.copy()\n",
    "\n",
    "    for _ in range(100):\n",
    "        dim = len(solution)\n",
    "        for i in range(dim):\n",
    "            if random.random() > 1.0/dim:\n",
    "                neighbor[i] = random.randint(1, item_count)\n",
    "        # pokud je nahodne nove reseni stejne vygeneruje ho znovu\n",
    "        if neighbor != solution:\n",
    "            break\n",
    "\n",
    "    return neighbor"
   ]
  },
  {
   "attachments": {},
   "cell_type": "markdown",
   "metadata": {},
   "source": [
    "# Brut force řešení"
   ]
  },
  {
   "cell_type": "code",
   "execution_count": 52,
   "metadata": {},
   "outputs": [],
   "source": [
    "def knapsack_brutforce(items: list[Item], max_capacity: int, class_count: int, items_count: int) -> tuple([tuple[Item], float, int]):\n",
    "    \"\"\"\n",
    "    Najde nejlepsi reseni \"nejlepsi kombinace\". Maximalni mozna cena & Pouze jeden predmet \n",
    "    ze tridy & Neni prekrocen maximalni objem.\n",
    "\n",
    "    Parametry:\n",
    "        items - seznam vsech predmetu\n",
    "        max_capacity - maximalni kapacita batohu\n",
    "        class_count - pocet trid\n",
    "        items_count - pocet predmetu na jednu tridu   \n",
    "\n",
    "    Return:\n",
    "        Nejlepsi nalezna kombinace, cas potrebny pro nalezeni nejlepsiho reseni, celkovy pocet kombinaci predmetu\n",
    "    \"\"\"\n",
    "    start = time.time()\n",
    "\n",
    "    best_cost: int = 0\n",
    "    best_combination: tuple[Item] = []\n",
    "\n",
    "    combination_count = 0\n",
    "    for i in range(1, int(len(items)/items_count)+1):\n",
    "        for combination in itertools.combinations(items, i):\n",
    "            combination_count +=1\n",
    "            current_capacity = sum(item.cubic_capacity for item in combination)\n",
    "            if current_capacity <= max_capacity:\n",
    "                current_cost = sum(item.cost for item in combination)\n",
    "                if current_cost > best_cost:\n",
    "                    if check_classes(combination, class_count):\n",
    "                        best_cost = current_cost\n",
    "                        best_combination = combination\n",
    "\n",
    "\n",
    "    return best_combination, float(time.time() - start), combination_count\n",
    "\n",
    "def check_classes(combination: tuple[Item], class_count: int) -> bool:\n",
    "    \"\"\"\n",
    "    Overi zda v kombinaci predmetu je kazdy predmet z prave jedne tridy\n",
    "\n",
    "    Parametry:\n",
    "        combination - kombinace jakymi je mozne predmety nakombinovat\n",
    "        class_count - pocet trid\n",
    "\n",
    "    Return:\n",
    "        True kdyz jsou zastoupeny predmety ze vsech trid prave jednou\n",
    "    \"\"\"\n",
    "    classes = {}\n",
    "    for item in combination:\n",
    "        class_id = item.class_id\n",
    "        if class_id not in classes:\n",
    "            classes[class_id] = 1\n",
    "        else:\n",
    "            return False\n",
    "    return len(classes) == class_count"
   ]
  },
  {
   "attachments": {},
   "cell_type": "markdown",
   "metadata": {},
   "source": [
    "# Funkce pro výpis řešení"
   ]
  },
  {
   "cell_type": "code",
   "execution_count": 59,
   "metadata": {},
   "outputs": [],
   "source": [
    "def printResult(best_solution: list[int], best_cost: int, items: list[Item], num_items: int, total_time: float, max_capacity: int):\n",
    "    total_capacity = 0\n",
    "    print(\"--------------------------\")\n",
    "    for class_id, item_id in enumerate(best_solution):\n",
    "        total_capacity += items[class_id * num_items + item_id - 1].cubic_capacity\n",
    "        print(\"Class-ID: %d; Item-ID: %d\" % (class_id + 1, item_id))\n",
    "    print(\"--------------------------\")\n",
    "    print(\"Total cost: %d\" % best_cost)\n",
    "    print(\"Total capacity: %d\" % total_capacity)\n",
    "    print(\"Total time: %f sec\" % total_time)\n",
    "    if total_capacity > max_capacity:\n",
    "        print(\"!! INVALID SOLUTION !!\")"
   ]
  },
  {
   "attachments": {},
   "cell_type": "markdown",
   "metadata": {},
   "source": [
    "# Nastaveni"
   ]
  },
  {
   "cell_type": "code",
   "execution_count": 106,
   "metadata": {},
   "outputs": [
    {
     "name": "stdout",
     "output_type": "stream",
     "text": [
      "Max capacity: 240\n"
     ]
    }
   ],
   "source": [
    "# pocet generovanych trid\n",
    "num_classes = 12  \n",
    "# pocet predmetu v jedne tride\n",
    "num_items = 3 \n",
    "# objem predmetu (1 az 50)\n",
    "cubic_capacity = lambda: random.randint(1, 51)\n",
    "# cena predmetu\n",
    "cost = lambda: random.randint(1, 51)\n",
    "# maximalni kapacita batohu\n",
    "max_capacity = 20 * num_classes\n",
    "# maximalni pocet iteraci algoritmu\n",
    "iterations = 20000\n",
    "\n",
    "print(\"Max capacity:\", max_capacity)"
   ]
  },
  {
   "attachments": {},
   "cell_type": "markdown",
   "metadata": {},
   "source": [
    "# Vygenerování předmětů"
   ]
  },
  {
   "cell_type": "code",
   "execution_count": 107,
   "metadata": {},
   "outputs": [
    {
     "name": "stdout",
     "output_type": "stream",
     "text": [
      "Class-ID: 1; Item-ID: 1; Capacity: 8; Cost: 9\n",
      "Class-ID: 1; Item-ID: 2; Capacity: 25; Cost: 48\n",
      "Class-ID: 1; Item-ID: 3; Capacity: 13; Cost: 37\n",
      "Class-ID: 2; Item-ID: 1; Capacity: 3; Cost: 21\n",
      "Class-ID: 2; Item-ID: 2; Capacity: 34; Cost: 36\n",
      "Class-ID: 2; Item-ID: 3; Capacity: 1; Cost: 26\n",
      "Class-ID: 3; Item-ID: 1; Capacity: 23; Cost: 30\n",
      "Class-ID: 3; Item-ID: 2; Capacity: 4; Cost: 5\n",
      "Class-ID: 3; Item-ID: 3; Capacity: 9; Cost: 35\n",
      "Class-ID: 4; Item-ID: 1; Capacity: 7; Cost: 17\n",
      "Class-ID: 4; Item-ID: 2; Capacity: 42; Cost: 42\n",
      "Class-ID: 4; Item-ID: 3; Capacity: 41; Cost: 24\n",
      "Class-ID: 5; Item-ID: 1; Capacity: 15; Cost: 51\n",
      "Class-ID: 5; Item-ID: 2; Capacity: 22; Cost: 19\n",
      "Class-ID: 5; Item-ID: 3; Capacity: 16; Cost: 23\n",
      "Class-ID: 6; Item-ID: 1; Capacity: 51; Cost: 17\n",
      "Class-ID: 6; Item-ID: 2; Capacity: 3; Cost: 16\n",
      "Class-ID: 6; Item-ID: 3; Capacity: 15; Cost: 47\n",
      "Class-ID: 7; Item-ID: 1; Capacity: 8; Cost: 50\n",
      "Class-ID: 7; Item-ID: 2; Capacity: 2; Cost: 15\n",
      "Class-ID: 7; Item-ID: 3; Capacity: 5; Cost: 17\n",
      "Class-ID: 8; Item-ID: 1; Capacity: 7; Cost: 30\n",
      "Class-ID: 8; Item-ID: 2; Capacity: 8; Cost: 13\n",
      "Class-ID: 8; Item-ID: 3; Capacity: 25; Cost: 51\n",
      "Class-ID: 9; Item-ID: 1; Capacity: 16; Cost: 27\n",
      "Class-ID: 9; Item-ID: 2; Capacity: 33; Cost: 33\n",
      "Class-ID: 9; Item-ID: 3; Capacity: 19; Cost: 14\n",
      "Class-ID: 10; Item-ID: 1; Capacity: 26; Cost: 38\n",
      "Class-ID: 10; Item-ID: 2; Capacity: 16; Cost: 43\n",
      "Class-ID: 10; Item-ID: 3; Capacity: 6; Cost: 39\n",
      "Class-ID: 11; Item-ID: 1; Capacity: 8; Cost: 4\n",
      "Class-ID: 11; Item-ID: 2; Capacity: 14; Cost: 24\n",
      "Class-ID: 11; Item-ID: 3; Capacity: 37; Cost: 48\n",
      "Class-ID: 12; Item-ID: 1; Capacity: 16; Cost: 9\n",
      "Class-ID: 12; Item-ID: 2; Capacity: 19; Cost: 3\n",
      "Class-ID: 12; Item-ID: 3; Capacity: 10; Cost: 13\n"
     ]
    }
   ],
   "source": [
    "items = generateItems(num_classes, num_items, cubic_capacity, cost)\n",
    "for item in items:\n",
    "    item.print()"
   ]
  },
  {
   "attachments": {},
   "cell_type": "markdown",
   "metadata": {},
   "source": [
    "# Porovnání řešení HC heuristiky & brut force"
   ]
  },
  {
   "cell_type": "code",
   "execution_count": 108,
   "metadata": {},
   "outputs": [
    {
     "name": "stdout",
     "output_type": "stream",
     "text": [
      "HC heuristic:\n",
      "--------------------------\n",
      "Class-ID: 1; Item-ID: 2\n",
      "Class-ID: 2; Item-ID: 1\n",
      "Class-ID: 3; Item-ID: 3\n",
      "Class-ID: 4; Item-ID: 2\n",
      "Class-ID: 5; Item-ID: 1\n",
      "Class-ID: 6; Item-ID: 3\n",
      "Class-ID: 7; Item-ID: 1\n",
      "Class-ID: 8; Item-ID: 3\n",
      "Class-ID: 9; Item-ID: 2\n",
      "Class-ID: 10; Item-ID: 3\n",
      "Class-ID: 11; Item-ID: 3\n",
      "Class-ID: 12; Item-ID: 3\n",
      "--------------------------\n",
      "Total cost: 478\n",
      "Total capacity: 228\n",
      "Total time: 0.353719 sec\n"
     ]
    }
   ],
   "source": [
    "# Spustíme algoritmus hill climbing s lokálním prohledáváním\n",
    "solution, fitness, total_time, history = knapsack_hc(items, max_capacity, iterations, num_classes, num_items)\n",
    "print(\"HC heuristic:\")\n",
    "printResult(solution, fitness, items, num_items, total_time, max_capacity)"
   ]
  },
  {
   "cell_type": "code",
   "execution_count": 110,
   "metadata": {},
   "outputs": [
    {
     "name": "stdout",
     "output_type": "stream",
     "text": [
      "Brutforce:\n",
      "--------------------------\n",
      "Class-ID: 1; Item-ID: 2\n",
      "Class-ID: 2; Item-ID: 3\n",
      "Class-ID: 3; Item-ID: 3\n",
      "Class-ID: 4; Item-ID: 2\n",
      "Class-ID: 5; Item-ID: 1\n",
      "Class-ID: 6; Item-ID: 3\n",
      "Class-ID: 7; Item-ID: 1\n",
      "Class-ID: 8; Item-ID: 3\n",
      "Class-ID: 9; Item-ID: 2\n",
      "Class-ID: 10; Item-ID: 2\n",
      "Class-ID: 11; Item-ID: 3\n",
      "Class-ID: 12; Item-ID: 3\n",
      "--------------------------\n",
      "Total cost: 478\n",
      "Total capacity: 236\n",
      "Total time: 2669.269345 sec\n"
     ]
    }
   ],
   "source": [
    "solution_2, total_time_2, _ = knapsack_brutforce(items, max_capacity, num_classes, num_items)\n",
    "print(\"Brutforce:\")\n",
    "printResult([item.item_id for item in solution_2], fitness, items, num_items, total_time_2, max_capacity)"
   ]
  },
  {
   "attachments": {},
   "cell_type": "markdown",
   "metadata": {},
   "source": [
    "# Konvergenční graf pro HC heuristiku"
   ]
  },
  {
   "cell_type": "code",
   "execution_count": 111,
   "metadata": {},
   "outputs": [
    {
     "data": {
      "image/png": "[encoded data removed]",
      "text/plain": [
       "<Figure size 640x480 with 1 Axes>"
      ]
     },
     "metadata": {},
     "output_type": "display_data"
    }
   ],
   "source": [
    "# zobrazeni grafu\n",
    "plt.plot(np.linspace(1, len(history), len(history)), history)\n",
    "plt.xlabel('Iterace')\n",
    "plt.ylabel('Hodnota fitness funkce')\n",
    "plt.legend(['HC'])\n",
    "plt.show()"
   ]
  },
  {
   "attachments": {},
   "cell_type": "markdown",
   "metadata": {},
   "source": [
    "# Závěr\n",
    "Z výsledku je vidět, že použití HC heuristiky pro řešení problému s batohem mnohonásobně ušetří čas potřebný k nalezení nejlepšího řešení problému. HC heuristika řešení problému nalezena během několika sekund, zatímco metodě brut force, kterou jsem implementoval v minulém úkolu, trvalo nalezení řešení přibližně 44 minut. Čas byl přiliš výsoký a dal byl se snižit paralelizací procesu, v mém připadě 16x, ale i po takové optimalizaci by čas byl stále výrazneji pomalejší. Brut force je jednoducha metoda řešení problému a podle toho odpovídají výsledky, v tomto případě vysoká časová náročnost. Hodnota účelové funkce byla u obou algoritmu shodná."
   ]
  }
 ],
 "metadata": {
  "kernelspec": {
   "display_name": "Python 3",
   "language": "python",
   "name": "python3"
  },
  "language_info": {
   "codemirror_mode": {
    "name": "ipython",
    "version": 3
   },
   "file_extension": ".py",
   "mimetype": "text/x-python",
   "name": "python",
   "nbconvert_exporter": "python",
   "pygments_lexer": "ipython3",
   "version": "3.10.6"
  },
  "orig_nbformat": 4
 },
 "nbformat": 4,
 "nbformat_minor": 2
}
