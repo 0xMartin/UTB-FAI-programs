{
 "cells": [
  {
   "cell_type": "code",
   "execution_count": 26,
   "metadata": {},
   "outputs": [],
   "source": [
    "import pandas as pd\n",
    "import numpy as np\n",
    "\n",
    "import time\n",
    "\n",
    "import matplotlib.pyplot as plt\n",
    "\n",
    "from sklearn.preprocessing import MinMaxScaler\n",
    "from sklearn.decomposition import PCA\n",
    "from sklearn.model_selection import cross_val_score, KFold\n",
    "from sklearn.neural_network import MLPClassifier\n",
    "from sklearn.metrics import accuracy_score\n",
    "\n",
    "import warnings\n",
    "warnings.filterwarnings('ignore')"
   ]
  },
  {
   "attachments": {},
   "cell_type": "markdown",
   "metadata": {},
   "source": [
    "## Nacteni datasetu"
   ]
  },
  {
   "cell_type": "code",
   "execution_count": 8,
   "metadata": {},
   "outputs": [
    {
     "name": "stdout",
     "output_type": "stream",
     "text": [
      "Size X: (4601, 57) Size Y: (4601,)\n"
     ]
    }
   ],
   "source": [
    "url = \"https://archive.ics.uci.edu/ml/machine-learning-databases/spambase/spambase.data\"\n",
    "data = pd.read_csv(url, header=None)\n",
    "X = data.iloc[:, :-1].values\n",
    "y = data.iloc[:, -1].values\n",
    "print(\"Size X:\", X.shape, \"Size Y:\", y.shape)"
   ]
  },
  {
   "attachments": {},
   "cell_type": "markdown",
   "metadata": {},
   "source": [
    "## Normalizace"
   ]
  },
  {
   "cell_type": "code",
   "execution_count": 9,
   "metadata": {},
   "outputs": [
    {
     "name": "stdout",
     "output_type": "stream",
     "text": [
      "X norm size: (4601, 57)\n"
     ]
    }
   ],
   "source": [
    "scaler = MinMaxScaler()\n",
    "X_norm = scaler.fit_transform(X)\n",
    "print(\"X norm size:\", X_norm.shape)"
   ]
  },
  {
   "attachments": {},
   "cell_type": "markdown",
   "metadata": {},
   "source": [
    "## Vypocet korelacnich koeficientu a filtrace atributu"
   ]
  },
  {
   "cell_type": "code",
   "execution_count": 10,
   "metadata": {},
   "outputs": [
    {
     "name": "stdout",
     "output_type": "stream",
     "text": [
      "X filtered size: (4601, 49)\n"
     ]
    }
   ],
   "source": [
    "# pocet atributu ktere budou odstraneny\n",
    "num_attributes_to_remove = 8\n",
    "\n",
    "# vypocita korelacni koeficienty\n",
    "corr = np.corrcoef(X_norm.T, y)\n",
    "sorted_correlations = sorted(zip(corr[-1, :-1], range(X.shape[1])), reverse=True)\n",
    "\n",
    "# vyfiltruje atribu s nejnizsim korelacni koeficientem\n",
    "X_filtered = np.delete(X_norm, [sorted_correlations[i][1] for i in range(num_attributes_to_remove)], axis=1)\n",
    "print(\"X filtered size:\", X_filtered.shape)\n"
   ]
  },
  {
   "attachments": {},
   "cell_type": "markdown",
   "metadata": {},
   "source": [
    "## PCA"
   ]
  },
  {
   "cell_type": "code",
   "execution_count": 11,
   "metadata": {},
   "outputs": [
    {
     "name": "stdout",
     "output_type": "stream",
     "text": [
      "X PCA size: (4601, 20)\n"
     ]
    }
   ],
   "source": [
    "# PCA\n",
    "num_components = 20  # počet komponent, které chceme použít\n",
    "pca = PCA(n_components=num_components)\n",
    "X_pca = pca.fit_transform(X_norm)\n",
    "print(\"X PCA size:\", X_pca.shape)"
   ]
  },
  {
   "attachments": {},
   "cell_type": "markdown",
   "metadata": {},
   "source": [
    "## 10-fold cross-validation"
   ]
  },
  {
   "cell_type": "code",
   "execution_count": 38,
   "metadata": {},
   "outputs": [],
   "source": [
    "def validate_mode(X_input, y_input):\n",
    "    # konfigurace neuronove site\n",
    "    hidden_layer_sizes = [(5,), (10,), (20,), (30,), (50,), (100, )]\n",
    "\n",
    "    # k-fold cross-validation\n",
    "    kf = KFold(n_splits=10)\n",
    "\n",
    "    # tabulka vysledku\n",
    "    results_table = pd.DataFrame(columns=['Fold', 'Hidden Layer Sizes', 'Accuracy'])\n",
    "\n",
    "    # otestuje presnost klasifikace vsech definovanych konfigurace neuronove size\n",
    "    print(\"Progress:\")\n",
    "    for hls in hidden_layer_sizes:\n",
    "\n",
    "        start = time.time()\n",
    "        print(\"10-fold cross-validation %d ...\" % hls, end=\"\")\n",
    "\n",
    "        for fold, (train_index, test_index) in enumerate(kf.split(X_input)):\n",
    "            # rozdeli data na trenovaci a testovaci\n",
    "            X_train, X_test = X_input[train_index], X_input[test_index]\n",
    "            y_train, y_test = y_input[train_index], y_input[test_index]\n",
    "\n",
    "            # vytvori a natrenuje model site\n",
    "            mlp = MLPClassifier(hidden_layer_sizes=hls)\n",
    "            mlp.fit(X_train, y_train)\n",
    "\n",
    "            # spocita presnost klasifikace modelu\n",
    "            y_pred = mlp.predict(X_test)\n",
    "            accuracy = accuracy_score(y_test, y_pred)\n",
    "\n",
    "            # zapise vysledek do tabulky\n",
    "            results_table = results_table.append({\n",
    "                'Fold': fold+1,\n",
    "                'Hidden Layer Sizes': hls,\n",
    "                'Accuracy': accuracy\n",
    "            }, ignore_index=True)\n",
    "\n",
    "        end = time.time()\n",
    "        print(\" Done [%fs]\" % (end - start))\n",
    "\n",
    "    end = time.time()\n",
    "    print(\"Finish...\\n\")\n",
    "\n",
    "    return results_table"
   ]
  },
  {
   "attachments": {},
   "cell_type": "markdown",
   "metadata": {},
   "source": [
    "## S vyuzitim PCA"
   ]
  },
  {
   "cell_type": "code",
   "execution_count": 39,
   "metadata": {},
   "outputs": [
    {
     "name": "stdout",
     "output_type": "stream",
     "text": [
      "Progress:\n",
      "10-fold cross-validation 5 ... Done [7.374542s]\n",
      "10-fold cross-validation 10 ... Done [7.674939s]\n",
      "10-fold cross-validation 20 ... Done [8.311835s]\n",
      "10-fold cross-validation 30 ... Done [9.520359s]\n",
      "10-fold cross-validation 50 ... Done [18.331141s]\n",
      "10-fold cross-validation 100 ... Done [23.882872s]\n",
      "Finish...\n",
      "\n"
     ]
    }
   ],
   "source": [
    "results_table_pca = validate_mode(X_pca, y)"
   ]
  },
  {
   "attachments": {},
   "cell_type": "markdown",
   "metadata": {},
   "source": [
    "## Prumerne vysledky"
   ]
  },
  {
   "cell_type": "code",
   "execution_count": 40,
   "metadata": {},
   "outputs": [
    {
     "name": "stdout",
     "output_type": "stream",
     "text": [
      "                   Accuracy\n",
      "Hidden Layer Sizes         \n",
      "(5,)                85.853%\n",
      "(10,)               87.874%\n",
      "(20,)               88.113%\n",
      "(30,)               88.199%\n",
      "(50,)               88.547%\n",
      "(100,)              88.591%\n"
     ]
    }
   ],
   "source": [
    "mean_results_pca = results_table_pca.groupby(['Hidden Layer Sizes']).mean()\n",
    "mean_results_pca['Accuracy'] = mean_results_pca['Accuracy'].map(lambda x: '{:.3%}'.format(x))\n",
    "print(mean_results_pca)"
   ]
  },
  {
   "attachments": {},
   "cell_type": "markdown",
   "metadata": {},
   "source": [
    "## Podrobnejsi vysledky"
   ]
  },
  {
   "cell_type": "code",
   "execution_count": 41,
   "metadata": {},
   "outputs": [
    {
     "name": "stdout",
     "output_type": "stream",
     "text": [
      "   Fold Hidden Layer Sizes Accuracy\n",
      "0     1               (5,)  77.223%\n",
      "1     2               (5,)  82.174%\n",
      "2     3               (5,)  84.348%\n",
      "3     4               (5,)  75.870%\n",
      "4     5               (5,)  95.000%\n",
      "5     6               (5,)  93.043%\n",
      "6     7               (5,)  85.870%\n",
      "7     8               (5,)  93.696%\n",
      "8     9               (5,)  93.478%\n",
      "9    10               (5,)  77.826%\n",
      "10    1              (10,)  79.393%\n",
      "11    2              (10,)  85.217%\n",
      "12    3              (10,)  87.826%\n",
      "13    4              (10,)  77.609%\n",
      "14    5              (10,)  95.217%\n",
      "15    6              (10,)  94.565%\n",
      "16    7              (10,)  94.130%\n",
      "17    8              (10,)  92.391%\n",
      "18    9              (10,)  93.913%\n",
      "19   10              (10,)  78.478%\n",
      "20    1              (20,)  80.043%\n",
      "21    2              (20,)  86.739%\n",
      "22    3              (20,)  88.696%\n",
      "23    4              (20,)  77.826%\n",
      "24    5              (20,)  95.435%\n",
      "25    6              (20,)  95.217%\n",
      "26    7              (20,)  94.348%\n",
      "27    8              (20,)  93.261%\n",
      "28    9              (20,)  94.348%\n",
      "29   10              (20,)  75.217%\n",
      "30    1              (30,)  82.646%\n",
      "31    2              (30,)  86.304%\n",
      "32    3              (30,)  88.261%\n",
      "33    4              (30,)  78.478%\n",
      "34    5              (30,)  94.348%\n",
      "35    6              (30,)  95.000%\n",
      "36    7              (30,)  95.435%\n",
      "37    8              (30,)  93.261%\n",
      "38    9              (30,)  94.348%\n",
      "39   10              (30,)  73.913%\n",
      "40    1              (50,)  83.948%\n",
      "41    2              (50,)  86.739%\n",
      "42    3              (50,)  88.478%\n",
      "43    4              (50,)  79.348%\n",
      "44    5              (50,)  94.565%\n",
      "45    6              (50,)  95.000%\n",
      "46    7              (50,)  95.652%\n",
      "47    8              (50,)  95.000%\n",
      "48    9              (50,)  93.913%\n",
      "49   10              (50,)  72.826%\n",
      "50    1             (100,)  83.297%\n",
      "51    2             (100,)  86.739%\n",
      "52    3             (100,)  88.913%\n",
      "53    4             (100,)  80.000%\n",
      "54    5             (100,)  95.870%\n",
      "55    6             (100,)  94.565%\n",
      "56    7             (100,)  94.783%\n",
      "57    8             (100,)  94.130%\n",
      "58    9             (100,)  94.783%\n",
      "59   10             (100,)  72.826%\n"
     ]
    }
   ],
   "source": [
    "res = results_table_pca.copy()\n",
    "res['Accuracy'] = res['Accuracy'].map(lambda x: '{:.3%}'.format(x))\n",
    "print(res)"
   ]
  },
  {
   "attachments": {},
   "cell_type": "markdown",
   "metadata": {},
   "source": [
    "## Stejny postup validace jen pro filtrovany datase a nefitrovany"
   ]
  },
  {
   "cell_type": "code",
   "execution_count": 42,
   "metadata": {},
   "outputs": [
    {
     "name": "stdout",
     "output_type": "stream",
     "text": [
      "Progress:\n",
      "10-fold cross-validation 5 ... Done [8.023876s]\n",
      "10-fold cross-validation 10 ... Done [8.375580s]\n",
      "10-fold cross-validation 20 ... Done [9.603225s]\n",
      "10-fold cross-validation 30 ... Done [17.390982s]\n",
      "10-fold cross-validation 50 ... Done [21.148876s]\n",
      "10-fold cross-validation 100 ... Done [27.146595s]\n",
      "Finish...\n",
      "\n"
     ]
    }
   ],
   "source": [
    "results_table_filtered = validate_mode(X_filtered, y)"
   ]
  },
  {
   "cell_type": "code",
   "execution_count": 43,
   "metadata": {},
   "outputs": [
    {
     "name": "stdout",
     "output_type": "stream",
     "text": [
      "                   Accuracy\n",
      "Hidden Layer Sizes         \n",
      "(5,)                86.417%\n",
      "(10,)               86.699%\n",
      "(20,)               87.851%\n",
      "(30,)               88.872%\n",
      "(50,)               88.198%\n",
      "(100,)              89.199%\n"
     ]
    }
   ],
   "source": [
    "mean_results_filtered = results_table_filtered.groupby(['Hidden Layer Sizes']).mean()\n",
    "mean_results_filtered['Accuracy'] = mean_results_filtered['Accuracy'].map(lambda x: '{:.3%}'.format(x))\n",
    "print(mean_results_filtered)"
   ]
  },
  {
   "cell_type": "code",
   "execution_count": 44,
   "metadata": {},
   "outputs": [
    {
     "name": "stdout",
     "output_type": "stream",
     "text": [
      "Progress:\n",
      "10-fold cross-validation 5 ... Done [8.555000s]\n",
      "10-fold cross-validation 10 ... Done [8.966112s]\n",
      "10-fold cross-validation 20 ... Done [9.853545s]\n",
      "10-fold cross-validation 30 ... Done [18.529736s]\n",
      "10-fold cross-validation 50 ... Done [22.741219s]\n",
      "10-fold cross-validation 100 ... Done [28.071320s]\n",
      "Finish...\n",
      "\n"
     ]
    }
   ],
   "source": [
    "results_table = validate_mode(X_norm, y)"
   ]
  },
  {
   "cell_type": "code",
   "execution_count": 45,
   "metadata": {},
   "outputs": [
    {
     "name": "stdout",
     "output_type": "stream",
     "text": [
      "                   Accuracy\n",
      "Hidden Layer Sizes         \n",
      "(5,)                89.264%\n",
      "(10,)               91.047%\n",
      "(20,)               90.938%\n",
      "(30,)               91.611%\n",
      "(50,)               92.154%\n",
      "(100,)              92.002%\n"
     ]
    }
   ],
   "source": [
    "mean_results = results_table.groupby(['Hidden Layer Sizes']).mean()\n",
    "mean_results['Accuracy'] = mean_results['Accuracy'].map(lambda x: '{:.3%}'.format(x))\n",
    "print(mean_results)"
   ]
  },
  {
   "attachments": {},
   "cell_type": "markdown",
   "metadata": {},
   "source": [
    "## Porovnani vysledku"
   ]
  },
  {
   "cell_type": "code",
   "execution_count": 46,
   "metadata": {},
   "outputs": [
    {
     "data": {
      "image/png": "[encoded data removed]",
      "text/plain": [
       "<Figure size 800x600 with 1 Axes>"
      ]
     },
     "metadata": {},
     "output_type": "display_data"
    }
   ],
   "source": [
    "accuracy_values = [float(val.strip('%')) / 100 for val in mean_results['Accuracy'].values]\n",
    "accuracy_values_filter = [float(val.strip('%')) / 100 for val in mean_results_filtered['Accuracy'].values]\n",
    "accuracy_values_pca = [float(val.strip('%')) / 100 for val in mean_results_pca['Accuracy'].values]\n",
    "\n",
    "\n",
    "plt.figure(figsize=(8, 6))\n",
    "\n",
    "list = []\n",
    "for l in mean_results.index:\n",
    "    list.append(str(l[0]))\n",
    "\n",
    "plt.plot(list, accuracy_values, '-o', label='No filter')\n",
    "plt.plot(list, accuracy_values_filter, '-o', label='With filter')\n",
    "plt.plot(list, accuracy_values_pca, '-o', label='With PCA')\n",
    "\n",
    "plt.xlabel('Hidden Layer Sizes')\n",
    "plt.ylabel('Accuracy')\n",
    "plt.grid()\n",
    "plt.legend()\n",
    "plt.show()"
   ]
  }
 ],
 "metadata": {
  "kernelspec": {
   "display_name": "Python 3",
   "language": "python",
   "name": "python3"
  },
  "language_info": {
   "codemirror_mode": {
    "name": "ipython",
    "version": 3
   },
   "file_extension": ".py",
   "mimetype": "text/x-python",
   "name": "python",
   "nbconvert_exporter": "python",
   "pygments_lexer": "ipython3",
   "version": "3.10.6"
  },
  "orig_nbformat": 4
 },
 "nbformat": 4,
 "nbformat_minor": 2
}
